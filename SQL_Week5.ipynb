{
 "cells": [
  {
   "cell_type": "code",
   "execution_count": 1,
   "id": "a039d0ac",
   "metadata": {},
   "outputs": [],
   "source": [
    "import pandas as pd\n",
    "import csv\n",
    "import sqlite3"
   ]
  },
  {
   "cell_type": "code",
   "execution_count": 2,
   "id": "31a49c4b",
   "metadata": {},
   "outputs": [],
   "source": [
    "df1=pd.read_csv(\"C:/Users/samsa/OneDrive/Masaüstü/NPOWER/exercises/ChicagoCensusData.csv\")\n",
    "df2=pd.read_csv(\"C:/Users/samsa/OneDrive/Masaüstü/NPOWER/exercises/ChicagoCrimeData.csv\")\n",
    "df3=pd.read_csv(\"C:/Users/samsa/OneDrive/Masaüstü/NPOWER/exercises/ChicagoPublicSchools.csv\")"
   ]
  },
  {
   "cell_type": "code",
   "execution_count": 3,
   "id": "71b22adc",
   "metadata": {},
   "outputs": [],
   "source": [
    "connection=sqlite3.connect('C:/Users/samsa/OneDrive/Masaüstü/NPOWER/exercises/db2.db')"
   ]
  },
  {
   "cell_type": "code",
   "execution_count": 4,
   "id": "4f0384e9",
   "metadata": {},
   "outputs": [],
   "source": [
    "df1.to_sql(\n",
    "    name= 'CENSUS_DATA',\n",
    "    con=connection,\n",
    "    if_exists ='replace',\n",
    "    index=False,\n",
    "    dtype={'COMMUNITY_AREA_NUMBER':'real',\n",
    "           'COMMUNITY_AREA_NAME':'text',\n",
    "           'PERCENT_OF_HOUSING_CROWDED':'real',\n",
    "           'PERCENT_HOUSEHOLDS_BELOW_POVERTY':'real',\n",
    "           'PERCENT_AGED_16__UNEMPLOYED':'real',\n",
    "           'PERCENT_AGED_25__WITHOUT_HIGH_SCHOOL_DIPLOMA':'real',\n",
    "           'PERCENT_AGED_UNDER_18_OR_OVER_64':'real',\n",
    "           'PER_CAPITA_INCOME':'real',\n",
    "           'HARDSHIP_INDEX':'real'          \n",
    "          }\n",
    ")"
   ]
  },
  {
   "cell_type": "code",
   "execution_count": 5,
   "id": "6074f2c1",
   "metadata": {},
   "outputs": [],
   "source": [
    "df2.to_sql(\n",
    "    name= 'CHICAGO_CRIME_DATA',\n",
    "    con=connection,\n",
    "    if_exists ='replace',\n",
    "    index=False,\n",
    "    dtype={'ID':'real',\n",
    "           'CASE_NUMBER':'text',\n",
    "           'DATE':'real',\n",
    "           'BLOCK':'text',\n",
    "           'IUCR':'real',\n",
    "           'PRIMARY_TYPE':'text',\n",
    "           'DESCRIPTION':'text',\n",
    "           'LOCATION_DESCRIPTION':'text',\n",
    "           'ARREST':'text', \n",
    "            'DOMESTIC':'text',  \n",
    "            'BEAT':'real',  \n",
    "            'DISTRICT':'real',  \n",
    "            'WARD':'real',  \n",
    "            'COMMUNITY_AREA_NUMBER':'real',  \n",
    "            'FBICODE':'real',  \n",
    "            'X_COORDINATE':'real',  \n",
    "            'Y_COORDINATE':'real',  \n",
    "            'YEAR':'real',  \n",
    "            'LATITUDE':'real',  \n",
    "            'LONGITUDE':'real',  \n",
    "            'LOCATION':'text'  \n",
    "          }\n",
    ")"
   ]
  },
  {
   "cell_type": "code",
   "execution_count": 6,
   "id": "8978cb3b",
   "metadata": {},
   "outputs": [
    {
     "name": "stderr",
     "output_type": "stream",
     "text": [
      "C:\\Users\\samsa\\anaconda3\\lib\\site-packages\\pandas\\core\\generic.py:2872: UserWarning: The spaces in these column names will not be changed. In pandas versions < 0.14, spaces were converted to underscores.\n",
      "  sql.to_sql(\n"
     ]
    }
   ],
   "source": [
    "df3.to_sql(\n",
    "    name= 'CHICAGO_PUBLIC_SCHOOLS',\n",
    "    con=connection,\n",
    "    if_exists ='replace',\n",
    "    index=False,\n",
    "    dtype={'School_ID':'real',\n",
    "           'NAME_OF_SCHOOL':'text',\n",
    "           'Elementary, Middle, or High School':'text',\n",
    "           'Street_Address':'text',\n",
    "           'City':'text',\n",
    "           'State':'text',\n",
    "           'ZIP_Code':'real',\n",
    "           'Phone_Number':'real',\n",
    "           'Link':'text', \n",
    "            'Network_Manager':'text',  \n",
    "            'Collaborative_Name':'text',  \n",
    "            'Adequate_Yearly_Progress_Made_':'text',  \n",
    "            'Track_Schedule':'text',  \n",
    "            'CPS_Performance_Policy_Status':'text',  \n",
    "            'CPS_Performance_Policy_Level':'text', \n",
    "            'HEALTHY_SCHOOL_CERTIFIED':'text',\n",
    "            'Safety_Icon':'text',\n",
    "            'SAFETY_SCORE':'real',\n",
    "            'Family_Involvement_Icon':'text',\n",
    "            'Family_Involvement_Score':'real',\n",
    "            'Environment_Icon':'text',\n",
    "            'Environment_Score':'real',\n",
    "            'Instruction_Icon':'text',\n",
    "            'Instruction_Score':'real',\n",
    "            'Leaders_Icon':'text',\n",
    "            'Leaders_Score':'real',\n",
    "            'Teachers_Icon':'text',\n",
    "            'Teachers_Score':'real',\n",
    "            'Parent_Engagement_Icon':'text',\n",
    "            'Parent_Engagement_Score':'real',\n",
    "            'Parent_Environment_Icon':'text',\n",
    "            'Parent_Environment_Score':'real',\n",
    "            'AVERAGE_STUDENT_ATTENDANCE':'real',\n",
    "            'Rate_of_Misconducts__per_100_students_':'real',\n",
    "            'Average_Teacher_Attendance':'real',\n",
    "            'Individualized_Education_Program_Compliance_Rate':'real',\n",
    "            'Pk_2_Literacy__':'real',\n",
    "            'Pk_2_Math__':'real',\n",
    "            'Gr3_5_Grade_Level_Math__':'real',\n",
    "            'Gr3_5_Grade_Level_Read__':'real',\n",
    "            'Gr3_5_Keep_Pace_Read__':'real',\n",
    "            'Gr3_5_Keep_Pace_Math__':'real',\n",
    "            'Gr6_8_Grade_Level_Math__':'real',\n",
    "            'Gr6_8_Grade_Level_Read__':'real',\n",
    "            'Gr6_8_Keep_Pace_Math_':'real',\n",
    "            'Gr6_8_Keep_Pace_Read__':'real',\n",
    "            'Gr_8_Explore_Math__':'real',\n",
    "            'Gr_8_Explore_Read__':'real',\n",
    "            'ISAT_Exceeding_Math__':'real',\n",
    "            'ISAT_Exceeding_Reading__':'real',\n",
    "            'ISAT_Value_Add_Math':'real',\n",
    "            'ISAT_Value_Add_Read':'real',\n",
    "            'ISAT_Value_Add_Color_Math':'text',\n",
    "            'ISAT_Value_Add_Color_Read':'text',\n",
    "            'Students_Taking__Algebra__':'real',\n",
    "            'Students_Passing__Algebra__':'real',\n",
    "            '9th Grade EXPLORE (2009)':'text',\n",
    "            '9th Grade EXPLORE (2010)':'text',\n",
    "            '10th Grade PLAN (2009)':'text',\n",
    "            '10th Grade PLAN (2010)':'text',\n",
    "            'Net_Change_EXPLORE_and_PLAN':'text',\n",
    "            '11th Grade Average ACT (2011)':'text',\n",
    "            'Net_Change_PLAN_and_ACT':'text',\n",
    "            'College_Eligibility__':'text',\n",
    "            'Graduation_Rate__':'text',\n",
    "            'College_Enrollment_Rate__':'text',\n",
    "            'COLLEGE_ENROLLMENT':'real',\n",
    "            'General_Services_Route':'text',\n",
    "            'Freshman_on_Track_Rate__':'text',\n",
    "            'X_COORDINATE':'real',\n",
    "            'Y_COORDINATE':'real',\n",
    "            'Latitude':'real',\n",
    "            'Longitude':'real',\n",
    "            'COMMUNITY_AREA_NUMBER':'real',\n",
    "            'COMMUNITY_AREA_NAME':'text',\n",
    "            'Ward':'real',\n",
    "            'Police_District':'real',\n",
    "            'Location':'text'\n",
    "            \n",
    "          }\n",
    ")"
   ]
  },
  {
   "cell_type": "code",
   "execution_count": null,
   "id": "f29ab9ce",
   "metadata": {},
   "outputs": [],
   "source": [
    "connection.commit()\n",
    "connection.close()"
   ]
  },
  {
   "cell_type": "code",
   "execution_count": 37,
   "id": "13136b44",
   "metadata": {},
   "outputs": [],
   "source": [
    "df=pd.read_sql_query(\"SELECT * FROM 'CENSUS_DATA' \",connection)"
   ]
  },
  {
   "cell_type": "code",
   "execution_count": 45,
   "id": "f47323b1",
   "metadata": {},
   "outputs": [
    {
     "data": {
      "text/html": [
       "<div>\n",
       "<style scoped>\n",
       "    .dataframe tbody tr th:only-of-type {\n",
       "        vertical-align: middle;\n",
       "    }\n",
       "\n",
       "    .dataframe tbody tr th {\n",
       "        vertical-align: top;\n",
       "    }\n",
       "\n",
       "    .dataframe thead th {\n",
       "        text-align: right;\n",
       "    }\n",
       "</style>\n",
       "<table border=\"1\" class=\"dataframe\">\n",
       "  <thead>\n",
       "    <tr style=\"text-align: right;\">\n",
       "      <th></th>\n",
       "      <th>COMMUNITY_AREA_NUMBER</th>\n",
       "      <th>COMMUNITY_AREA_NAME</th>\n",
       "      <th>PERCENT_OF_HOUSING_CROWDED</th>\n",
       "      <th>PERCENT_HOUSEHOLDS_BELOW_POVERTY</th>\n",
       "      <th>PERCENT_AGED_16__UNEMPLOYED</th>\n",
       "      <th>PERCENT_AGED_25__WITHOUT_HIGH_SCHOOL_DIPLOMA</th>\n",
       "      <th>PERCENT_AGED_UNDER_18_OR_OVER_64</th>\n",
       "      <th>PER_CAPITA_INCOME</th>\n",
       "      <th>HARDSHIP_INDEX</th>\n",
       "    </tr>\n",
       "  </thead>\n",
       "  <tbody>\n",
       "    <tr>\n",
       "      <th>0</th>\n",
       "      <td>1.0</td>\n",
       "      <td>Rogers Park</td>\n",
       "      <td>7.7</td>\n",
       "      <td>23.6</td>\n",
       "      <td>8.7</td>\n",
       "      <td>18.2</td>\n",
       "      <td>27.5</td>\n",
       "      <td>23939.0</td>\n",
       "      <td>39.0</td>\n",
       "    </tr>\n",
       "    <tr>\n",
       "      <th>1</th>\n",
       "      <td>2.0</td>\n",
       "      <td>West Ridge</td>\n",
       "      <td>7.8</td>\n",
       "      <td>17.2</td>\n",
       "      <td>8.8</td>\n",
       "      <td>20.8</td>\n",
       "      <td>38.5</td>\n",
       "      <td>23040.0</td>\n",
       "      <td>46.0</td>\n",
       "    </tr>\n",
       "    <tr>\n",
       "      <th>2</th>\n",
       "      <td>3.0</td>\n",
       "      <td>Uptown</td>\n",
       "      <td>3.8</td>\n",
       "      <td>24.0</td>\n",
       "      <td>8.9</td>\n",
       "      <td>11.8</td>\n",
       "      <td>22.2</td>\n",
       "      <td>35787.0</td>\n",
       "      <td>20.0</td>\n",
       "    </tr>\n",
       "    <tr>\n",
       "      <th>3</th>\n",
       "      <td>4.0</td>\n",
       "      <td>Lincoln Square</td>\n",
       "      <td>3.4</td>\n",
       "      <td>10.9</td>\n",
       "      <td>8.2</td>\n",
       "      <td>13.4</td>\n",
       "      <td>25.5</td>\n",
       "      <td>37524.0</td>\n",
       "      <td>17.0</td>\n",
       "    </tr>\n",
       "    <tr>\n",
       "      <th>4</th>\n",
       "      <td>5.0</td>\n",
       "      <td>North Center</td>\n",
       "      <td>0.3</td>\n",
       "      <td>7.5</td>\n",
       "      <td>5.2</td>\n",
       "      <td>4.5</td>\n",
       "      <td>26.2</td>\n",
       "      <td>57123.0</td>\n",
       "      <td>6.0</td>\n",
       "    </tr>\n",
       "  </tbody>\n",
       "</table>\n",
       "</div>"
      ],
      "text/plain": [
       "   COMMUNITY_AREA_NUMBER COMMUNITY_AREA_NAME  PERCENT_OF_HOUSING_CROWDED  \\\n",
       "0                    1.0         Rogers Park                         7.7   \n",
       "1                    2.0          West Ridge                         7.8   \n",
       "2                    3.0              Uptown                         3.8   \n",
       "3                    4.0      Lincoln Square                         3.4   \n",
       "4                    5.0        North Center                         0.3   \n",
       "\n",
       "   PERCENT_HOUSEHOLDS_BELOW_POVERTY  PERCENT_AGED_16__UNEMPLOYED  \\\n",
       "0                              23.6                          8.7   \n",
       "1                              17.2                          8.8   \n",
       "2                              24.0                          8.9   \n",
       "3                              10.9                          8.2   \n",
       "4                               7.5                          5.2   \n",
       "\n",
       "   PERCENT_AGED_25__WITHOUT_HIGH_SCHOOL_DIPLOMA  \\\n",
       "0                                          18.2   \n",
       "1                                          20.8   \n",
       "2                                          11.8   \n",
       "3                                          13.4   \n",
       "4                                           4.5   \n",
       "\n",
       "   PERCENT_AGED_UNDER_18_OR_OVER_64  PER_CAPITA_INCOME  HARDSHIP_INDEX  \n",
       "0                              27.5            23939.0            39.0  \n",
       "1                              38.5            23040.0            46.0  \n",
       "2                              22.2            35787.0            20.0  \n",
       "3                              25.5            37524.0            17.0  \n",
       "4                              26.2            57123.0             6.0  "
      ]
     },
     "execution_count": 45,
     "metadata": {},
     "output_type": "execute_result"
    }
   ],
   "source": [
    "df.head()"
   ]
  },
  {
   "cell_type": "markdown",
   "id": "cc08b613",
   "metadata": {},
   "source": [
    "# Problem 1: Find the total number of crimes recorded in the CRIME table."
   ]
  },
  {
   "cell_type": "code",
   "execution_count": 49,
   "id": "878c31a8",
   "metadata": {},
   "outputs": [
    {
     "data": {
      "text/html": [
       "<div>\n",
       "<style scoped>\n",
       "    .dataframe tbody tr th:only-of-type {\n",
       "        vertical-align: middle;\n",
       "    }\n",
       "\n",
       "    .dataframe tbody tr th {\n",
       "        vertical-align: top;\n",
       "    }\n",
       "\n",
       "    .dataframe thead th {\n",
       "        text-align: right;\n",
       "    }\n",
       "</style>\n",
       "<table border=\"1\" class=\"dataframe\">\n",
       "  <thead>\n",
       "    <tr style=\"text-align: right;\">\n",
       "      <th></th>\n",
       "      <th>Count</th>\n",
       "    </tr>\n",
       "  </thead>\n",
       "  <tbody>\n",
       "    <tr>\n",
       "      <th>0</th>\n",
       "      <td>533</td>\n",
       "    </tr>\n",
       "  </tbody>\n",
       "</table>\n",
       "</div>"
      ],
      "text/plain": [
       "   Count\n",
       "0    533"
      ]
     },
     "execution_count": 49,
     "metadata": {},
     "output_type": "execute_result"
    }
   ],
   "source": [
    "pd.read_sql_query(\"SELECT count(distinct ID) as Count from CHICAGO_CRIME_DATA\",connection)"
   ]
  },
  {
   "cell_type": "markdown",
   "id": "5f75cd06",
   "metadata": {},
   "source": [
    "# Problem 2: List community areas with per capita income less than 11000."
   ]
  },
  {
   "cell_type": "code",
   "execution_count": 50,
   "id": "7aa15654",
   "metadata": {},
   "outputs": [
    {
     "data": {
      "text/html": [
       "<div>\n",
       "<style scoped>\n",
       "    .dataframe tbody tr th:only-of-type {\n",
       "        vertical-align: middle;\n",
       "    }\n",
       "\n",
       "    .dataframe tbody tr th {\n",
       "        vertical-align: top;\n",
       "    }\n",
       "\n",
       "    .dataframe thead th {\n",
       "        text-align: right;\n",
       "    }\n",
       "</style>\n",
       "<table border=\"1\" class=\"dataframe\">\n",
       "  <thead>\n",
       "    <tr style=\"text-align: right;\">\n",
       "      <th></th>\n",
       "      <th>COMMUNITY_AREA_NAME</th>\n",
       "    </tr>\n",
       "  </thead>\n",
       "  <tbody>\n",
       "    <tr>\n",
       "      <th>0</th>\n",
       "      <td>West Garfield Park</td>\n",
       "    </tr>\n",
       "    <tr>\n",
       "      <th>1</th>\n",
       "      <td>South Lawndale</td>\n",
       "    </tr>\n",
       "    <tr>\n",
       "      <th>2</th>\n",
       "      <td>Fuller Park</td>\n",
       "    </tr>\n",
       "    <tr>\n",
       "      <th>3</th>\n",
       "      <td>Riverdale</td>\n",
       "    </tr>\n",
       "  </tbody>\n",
       "</table>\n",
       "</div>"
      ],
      "text/plain": [
       "  COMMUNITY_AREA_NAME\n",
       "0  West Garfield Park\n",
       "1      South Lawndale\n",
       "2         Fuller Park\n",
       "3           Riverdale"
      ]
     },
     "execution_count": 50,
     "metadata": {},
     "output_type": "execute_result"
    }
   ],
   "source": [
    "\n",
    "pd.read_sql_query(\"SELECT community_area_name from census_data where per_capita_income<11000\",connection)"
   ]
  },
  {
   "cell_type": "markdown",
   "id": "09d4767d",
   "metadata": {},
   "source": [
    "# Problem 3: List all case numbers for crimes  involving minors?(children are not considered minors for the purposes of crime analysis)"
   ]
  },
  {
   "cell_type": "code",
   "execution_count": 60,
   "id": "cf437b63",
   "metadata": {},
   "outputs": [
    {
     "data": {
      "text/html": [
       "<div>\n",
       "<style scoped>\n",
       "    .dataframe tbody tr th:only-of-type {\n",
       "        vertical-align: middle;\n",
       "    }\n",
       "\n",
       "    .dataframe tbody tr th {\n",
       "        vertical-align: top;\n",
       "    }\n",
       "\n",
       "    .dataframe thead th {\n",
       "        text-align: right;\n",
       "    }\n",
       "</style>\n",
       "<table border=\"1\" class=\"dataframe\">\n",
       "  <thead>\n",
       "    <tr style=\"text-align: right;\">\n",
       "      <th></th>\n",
       "      <th>CASE_NUMBER</th>\n",
       "    </tr>\n",
       "  </thead>\n",
       "  <tbody>\n",
       "    <tr>\n",
       "      <th>0</th>\n",
       "      <td>HL266884</td>\n",
       "    </tr>\n",
       "    <tr>\n",
       "      <th>1</th>\n",
       "      <td>HK238408</td>\n",
       "    </tr>\n",
       "  </tbody>\n",
       "</table>\n",
       "</div>"
      ],
      "text/plain": [
       "  CASE_NUMBER\n",
       "0    HL266884\n",
       "1    HK238408"
      ]
     },
     "execution_count": 60,
     "metadata": {},
     "output_type": "execute_result"
    }
   ],
   "source": [
    "\n",
    "pd.read_sql_query(\"SELECT case_number from chicago_crime_data where (primary_type)='offense involving children' or (description) like '%minor'\",connection)"
   ]
  },
  {
   "cell_type": "markdown",
   "id": "0b233110",
   "metadata": {},
   "source": [
    "# Problem 4: List all kidnapping crimes involving a child?"
   ]
  },
  {
   "cell_type": "code",
   "execution_count": 61,
   "id": "afa4e631",
   "metadata": {},
   "outputs": [
    {
     "data": {
      "text/html": [
       "<div>\n",
       "<style scoped>\n",
       "    .dataframe tbody tr th:only-of-type {\n",
       "        vertical-align: middle;\n",
       "    }\n",
       "\n",
       "    .dataframe tbody tr th {\n",
       "        vertical-align: top;\n",
       "    }\n",
       "\n",
       "    .dataframe thead th {\n",
       "        text-align: right;\n",
       "    }\n",
       "</style>\n",
       "<table border=\"1\" class=\"dataframe\">\n",
       "  <thead>\n",
       "    <tr style=\"text-align: right;\">\n",
       "      <th></th>\n",
       "      <th>CASE_NUMBER</th>\n",
       "    </tr>\n",
       "  </thead>\n",
       "  <tbody>\n",
       "    <tr>\n",
       "      <th>0</th>\n",
       "      <td>HN144152</td>\n",
       "    </tr>\n",
       "  </tbody>\n",
       "</table>\n",
       "</div>"
      ],
      "text/plain": [
       "  CASE_NUMBER\n",
       "0    HN144152"
      ]
     },
     "execution_count": 61,
     "metadata": {},
     "output_type": "execute_result"
    }
   ],
   "source": [
    " pd.read_sql_query(\"SELECT case_number from chicago_crime_data where primary_type='KIDNAPPING'\",connection)"
   ]
  },
  {
   "cell_type": "markdown",
   "id": "f3275261",
   "metadata": {},
   "source": [
    "# Problem 5: What kind of crimes were recorded at schools?"
   ]
  },
  {
   "cell_type": "code",
   "execution_count": 62,
   "id": "53850125",
   "metadata": {},
   "outputs": [
    {
     "data": {
      "text/html": [
       "<div>\n",
       "<style scoped>\n",
       "    .dataframe tbody tr th:only-of-type {\n",
       "        vertical-align: middle;\n",
       "    }\n",
       "\n",
       "    .dataframe tbody tr th {\n",
       "        vertical-align: top;\n",
       "    }\n",
       "\n",
       "    .dataframe thead th {\n",
       "        text-align: right;\n",
       "    }\n",
       "</style>\n",
       "<table border=\"1\" class=\"dataframe\">\n",
       "  <thead>\n",
       "    <tr style=\"text-align: right;\">\n",
       "      <th></th>\n",
       "      <th>crime_recorded_atschool</th>\n",
       "    </tr>\n",
       "  </thead>\n",
       "  <tbody>\n",
       "    <tr>\n",
       "      <th>0</th>\n",
       "      <td>BATTERY</td>\n",
       "    </tr>\n",
       "    <tr>\n",
       "      <th>1</th>\n",
       "      <td>BATTERY</td>\n",
       "    </tr>\n",
       "    <tr>\n",
       "      <th>2</th>\n",
       "      <td>BATTERY</td>\n",
       "    </tr>\n",
       "    <tr>\n",
       "      <th>3</th>\n",
       "      <td>BATTERY</td>\n",
       "    </tr>\n",
       "    <tr>\n",
       "      <th>4</th>\n",
       "      <td>BATTERY</td>\n",
       "    </tr>\n",
       "    <tr>\n",
       "      <th>5</th>\n",
       "      <td>CRIMINAL DAMAGE</td>\n",
       "    </tr>\n",
       "    <tr>\n",
       "      <th>6</th>\n",
       "      <td>NARCOTICS</td>\n",
       "    </tr>\n",
       "    <tr>\n",
       "      <th>7</th>\n",
       "      <td>NARCOTICS</td>\n",
       "    </tr>\n",
       "    <tr>\n",
       "      <th>8</th>\n",
       "      <td>ASSAULT</td>\n",
       "    </tr>\n",
       "    <tr>\n",
       "      <th>9</th>\n",
       "      <td>CRIMINAL TRESPASS</td>\n",
       "    </tr>\n",
       "    <tr>\n",
       "      <th>10</th>\n",
       "      <td>PUBLIC PEACE VIOLATION</td>\n",
       "    </tr>\n",
       "    <tr>\n",
       "      <th>11</th>\n",
       "      <td>PUBLIC PEACE VIOLATION</td>\n",
       "    </tr>\n",
       "  </tbody>\n",
       "</table>\n",
       "</div>"
      ],
      "text/plain": [
       "   crime_recorded_atschool\n",
       "0                  BATTERY\n",
       "1                  BATTERY\n",
       "2                  BATTERY\n",
       "3                  BATTERY\n",
       "4                  BATTERY\n",
       "5          CRIMINAL DAMAGE\n",
       "6                NARCOTICS\n",
       "7                NARCOTICS\n",
       "8                  ASSAULT\n",
       "9        CRIMINAL TRESPASS\n",
       "10  PUBLIC PEACE VIOLATION\n",
       "11  PUBLIC PEACE VIOLATION"
      ]
     },
     "execution_count": 62,
     "metadata": {},
     "output_type": "execute_result"
    }
   ],
   "source": [
    "\n",
    "pd.read_sql_query(\"SELECT primary_type as crime_recorded_atschool from  CHICAGO_CRIME_DATA where location_description like '%SCHOOL%'\",connection)"
   ]
  },
  {
   "cell_type": "markdown",
   "id": "a1cdfb17",
   "metadata": {},
   "source": [
    "# Problem 6: List the average safety score for all types of schools."
   ]
  },
  {
   "cell_type": "code",
   "execution_count": 63,
   "id": "0b284497",
   "metadata": {},
   "outputs": [
    {
     "data": {
      "text/html": [
       "<div>\n",
       "<style scoped>\n",
       "    .dataframe tbody tr th:only-of-type {\n",
       "        vertical-align: middle;\n",
       "    }\n",
       "\n",
       "    .dataframe tbody tr th {\n",
       "        vertical-align: top;\n",
       "    }\n",
       "\n",
       "    .dataframe thead th {\n",
       "        text-align: right;\n",
       "    }\n",
       "</style>\n",
       "<table border=\"1\" class=\"dataframe\">\n",
       "  <thead>\n",
       "    <tr style=\"text-align: right;\">\n",
       "      <th></th>\n",
       "      <th>average_safety_score</th>\n",
       "    </tr>\n",
       "  </thead>\n",
       "  <tbody>\n",
       "    <tr>\n",
       "      <th>0</th>\n",
       "      <td>49.504873</td>\n",
       "    </tr>\n",
       "  </tbody>\n",
       "</table>\n",
       "</div>"
      ],
      "text/plain": [
       "   average_safety_score\n",
       "0             49.504873"
      ]
     },
     "execution_count": 63,
     "metadata": {},
     "output_type": "execute_result"
    }
   ],
   "source": [
    "pd.read_sql_query(\"SELECT avg(safety_score) as average_safety_score from CHICAGO_PUBLIC_SCHOOLS\",connection)"
   ]
  },
  {
   "cell_type": "markdown",
   "id": "8ae9f3df",
   "metadata": {},
   "source": [
    "# Problem 7: List 5 community areas with highest % of households below poverty line."
   ]
  },
  {
   "cell_type": "code",
   "execution_count": 68,
   "id": "60d8d797",
   "metadata": {},
   "outputs": [
    {
     "data": {
      "text/html": [
       "<div>\n",
       "<style scoped>\n",
       "    .dataframe tbody tr th:only-of-type {\n",
       "        vertical-align: middle;\n",
       "    }\n",
       "\n",
       "    .dataframe tbody tr th {\n",
       "        vertical-align: top;\n",
       "    }\n",
       "\n",
       "    .dataframe thead th {\n",
       "        text-align: right;\n",
       "    }\n",
       "</style>\n",
       "<table border=\"1\" class=\"dataframe\">\n",
       "  <thead>\n",
       "    <tr style=\"text-align: right;\">\n",
       "      <th></th>\n",
       "      <th>COMMUNITY_AREA_NUMBER</th>\n",
       "      <th>COMMUNITY_AREA_NAME</th>\n",
       "    </tr>\n",
       "  </thead>\n",
       "  <tbody>\n",
       "    <tr>\n",
       "      <th>0</th>\n",
       "      <td>54.0</td>\n",
       "      <td>Riverdale</td>\n",
       "    </tr>\n",
       "    <tr>\n",
       "      <th>1</th>\n",
       "      <td>37.0</td>\n",
       "      <td>Fuller Park</td>\n",
       "    </tr>\n",
       "    <tr>\n",
       "      <th>2</th>\n",
       "      <td>68.0</td>\n",
       "      <td>Englewood</td>\n",
       "    </tr>\n",
       "    <tr>\n",
       "      <th>3</th>\n",
       "      <td>29.0</td>\n",
       "      <td>North Lawndale</td>\n",
       "    </tr>\n",
       "    <tr>\n",
       "      <th>4</th>\n",
       "      <td>27.0</td>\n",
       "      <td>East Garfield Park</td>\n",
       "    </tr>\n",
       "  </tbody>\n",
       "</table>\n",
       "</div>"
      ],
      "text/plain": [
       "   COMMUNITY_AREA_NUMBER COMMUNITY_AREA_NAME\n",
       "0                   54.0           Riverdale\n",
       "1                   37.0         Fuller Park\n",
       "2                   68.0           Englewood\n",
       "3                   29.0      North Lawndale\n",
       "4                   27.0  East Garfield Park"
      ]
     },
     "execution_count": 68,
     "metadata": {},
     "output_type": "execute_result"
    }
   ],
   "source": [
    "pd.read_sql_query(\"SELECT community_area_number, community_area_name from census_data order by percent_households_below_poverty desc limit 5;\",connection)"
   ]
  },
  {
   "cell_type": "markdown",
   "id": "8c709ce1",
   "metadata": {},
   "source": [
    "# Problem 8: Which community area(number) is most crime prone?"
   ]
  },
  {
   "cell_type": "code",
   "execution_count": 70,
   "id": "a21c5a3e",
   "metadata": {},
   "outputs": [
    {
     "data": {
      "text/html": [
       "<div>\n",
       "<style scoped>\n",
       "    .dataframe tbody tr th:only-of-type {\n",
       "        vertical-align: middle;\n",
       "    }\n",
       "\n",
       "    .dataframe tbody tr th {\n",
       "        vertical-align: top;\n",
       "    }\n",
       "\n",
       "    .dataframe thead th {\n",
       "        text-align: right;\n",
       "    }\n",
       "</style>\n",
       "<table border=\"1\" class=\"dataframe\">\n",
       "  <thead>\n",
       "    <tr style=\"text-align: right;\">\n",
       "      <th></th>\n",
       "      <th>COMMUNITY_AREA_NUMBER</th>\n",
       "      <th>no_of_cases</th>\n",
       "    </tr>\n",
       "  </thead>\n",
       "  <tbody>\n",
       "    <tr>\n",
       "      <th>0</th>\n",
       "      <td>25.0</td>\n",
       "      <td>43</td>\n",
       "    </tr>\n",
       "  </tbody>\n",
       "</table>\n",
       "</div>"
      ],
      "text/plain": [
       "   COMMUNITY_AREA_NUMBER  no_of_cases\n",
       "0                   25.0           43"
      ]
     },
     "execution_count": 70,
     "metadata": {},
     "output_type": "execute_result"
    }
   ],
   "source": [
    "pd.read_sql_query(\"SELECT community_area_number,count(case_number) as no_of_cases from CHICAGO_CRIME_DATA group by community_area_number order by no_of_cases desc limit 1\",connection)"
   ]
  },
  {
   "cell_type": "markdown",
   "id": "382490ee",
   "metadata": {},
   "source": [
    "# Problem 9: Use a sub-query to find the name of the community area with highest hardship index."
   ]
  },
  {
   "cell_type": "code",
   "execution_count": 71,
   "id": "6b724f4a",
   "metadata": {},
   "outputs": [
    {
     "data": {
      "text/html": [
       "<div>\n",
       "<style scoped>\n",
       "    .dataframe tbody tr th:only-of-type {\n",
       "        vertical-align: middle;\n",
       "    }\n",
       "\n",
       "    .dataframe tbody tr th {\n",
       "        vertical-align: top;\n",
       "    }\n",
       "\n",
       "    .dataframe thead th {\n",
       "        text-align: right;\n",
       "    }\n",
       "</style>\n",
       "<table border=\"1\" class=\"dataframe\">\n",
       "  <thead>\n",
       "    <tr style=\"text-align: right;\">\n",
       "      <th></th>\n",
       "      <th>COMMUNITY_AREA_NAME</th>\n",
       "    </tr>\n",
       "  </thead>\n",
       "  <tbody>\n",
       "    <tr>\n",
       "      <th>0</th>\n",
       "      <td>Riverdale</td>\n",
       "    </tr>\n",
       "  </tbody>\n",
       "</table>\n",
       "</div>"
      ],
      "text/plain": [
       "  COMMUNITY_AREA_NAME\n",
       "0           Riverdale"
      ]
     },
     "execution_count": 71,
     "metadata": {},
     "output_type": "execute_result"
    }
   ],
   "source": [
    "pd.read_sql_query(\"SELECT COMMUNITY_AREA_NAME FROM  CENSUS_DATA WHERE HARDSHIP_INDEX = (SELECT MAX(HARDSHIP_INDEX) FROM CENSUS_DATA);\",connection)"
   ]
  },
  {
   "cell_type": "markdown",
   "id": "c343bfe1",
   "metadata": {},
   "source": [
    "# Problem 10: Use a sub-query to determine the Community Area Name with most number of crimes?"
   ]
  },
  {
   "cell_type": "code",
   "execution_count": 77,
   "id": "9c28c865",
   "metadata": {},
   "outputs": [
    {
     "data": {
      "text/html": [
       "<div>\n",
       "<style scoped>\n",
       "    .dataframe tbody tr th:only-of-type {\n",
       "        vertical-align: middle;\n",
       "    }\n",
       "\n",
       "    .dataframe tbody tr th {\n",
       "        vertical-align: top;\n",
       "    }\n",
       "\n",
       "    .dataframe thead th {\n",
       "        text-align: right;\n",
       "    }\n",
       "</style>\n",
       "<table border=\"1\" class=\"dataframe\">\n",
       "  <thead>\n",
       "    <tr style=\"text-align: right;\">\n",
       "      <th></th>\n",
       "      <th>COMMUNITY_AREA_NAME</th>\n",
       "    </tr>\n",
       "  </thead>\n",
       "  <tbody>\n",
       "    <tr>\n",
       "      <th>0</th>\n",
       "      <td>Austin</td>\n",
       "    </tr>\n",
       "  </tbody>\n",
       "</table>\n",
       "</div>"
      ],
      "text/plain": [
       "  COMMUNITY_AREA_NAME\n",
       "0              Austin"
      ]
     },
     "execution_count": 77,
     "metadata": {},
     "output_type": "execute_result"
    }
   ],
   "source": [
    "pd.read_sql_query(\"SELECT community_area_name FROM CENSUS_DATA WHERE COMMUNITY_AREA_NUMBER = (SELECT COMMUNITY_AREA_NUMBER FROM CHICAGO_CRIME_DATA GROUP BY COMMUNITY_AREA_NUMBER ORDER BY COUNT(COMMUNITY_AREA_NUMBER) DESC LIMIT 1) LIMIT 1;\",connection)"
   ]
  },
  {
   "cell_type": "code",
   "execution_count": null,
   "id": "117d746a",
   "metadata": {},
   "outputs": [],
   "source": []
  }
 ],
 "metadata": {
  "kernelspec": {
   "display_name": "Python 3 (ipykernel)",
   "language": "python",
   "name": "python3"
  },
  "language_info": {
   "codemirror_mode": {
    "name": "ipython",
    "version": 3
   },
   "file_extension": ".py",
   "mimetype": "text/x-python",
   "name": "python",
   "nbconvert_exporter": "python",
   "pygments_lexer": "ipython3",
   "version": "3.9.7"
  }
 },
 "nbformat": 4,
 "nbformat_minor": 5
}
